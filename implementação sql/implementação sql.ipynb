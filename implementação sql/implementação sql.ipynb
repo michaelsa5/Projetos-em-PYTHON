{
 "cells": [
  {
   "cell_type": "markdown",
   "id": "c95367c2",
   "metadata": {},
   "source": [
    "# Implementação do sql para analise de dados com python"
   ]
  },
  {
   "cell_type": "code",
   "execution_count": 30,
   "id": "ec200c12",
   "metadata": {},
   "outputs": [],
   "source": [
    "# instalando pacote ipython-sql\n",
    "#!pip install -q ipython-sql"
   ]
  },
  {
   "cell_type": "code",
   "execution_count": 2,
   "id": "6367fd54",
   "metadata": {},
   "outputs": [],
   "source": [
    "#imports\n",
    "import pandas as pd\n",
    "import sqlite3"
   ]
  },
  {
   "cell_type": "markdown",
   "id": "07533d2f",
   "metadata": {},
   "source": [
    "### Banco relacional, python e sql "
   ]
  },
  {
   "cell_type": "code",
   "execution_count": 3,
   "id": "a4b40f41",
   "metadata": {},
   "outputs": [],
   "source": [
    "#Criando um DataFrame\n",
    "dados = pd.DataFrame({'Nome':['Siri','Alexa','Cortana'],\n",
    "                    'Idade':[28,47,18],\n",
    "                    'Cargo':['Analista de dados', 'Cientista de dados', 'Engenheiro de dados']})"
   ]
  },
  {
   "cell_type": "code",
   "execution_count": 4,
   "id": "67c31f00",
   "metadata": {},
   "outputs": [
    {
     "data": {
      "text/html": [
       "<div>\n",
       "<style scoped>\n",
       "    .dataframe tbody tr th:only-of-type {\n",
       "        vertical-align: middle;\n",
       "    }\n",
       "\n",
       "    .dataframe tbody tr th {\n",
       "        vertical-align: top;\n",
       "    }\n",
       "\n",
       "    .dataframe thead th {\n",
       "        text-align: right;\n",
       "    }\n",
       "</style>\n",
       "<table border=\"1\" class=\"dataframe\">\n",
       "  <thead>\n",
       "    <tr style=\"text-align: right;\">\n",
       "      <th></th>\n",
       "      <th>Nome</th>\n",
       "      <th>Idade</th>\n",
       "      <th>Cargo</th>\n",
       "    </tr>\n",
       "  </thead>\n",
       "  <tbody>\n",
       "    <tr>\n",
       "      <th>0</th>\n",
       "      <td>Siri</td>\n",
       "      <td>28</td>\n",
       "      <td>Analista de dados</td>\n",
       "    </tr>\n",
       "    <tr>\n",
       "      <th>1</th>\n",
       "      <td>Alexa</td>\n",
       "      <td>47</td>\n",
       "      <td>Cientista de dados</td>\n",
       "    </tr>\n",
       "    <tr>\n",
       "      <th>2</th>\n",
       "      <td>Cortana</td>\n",
       "      <td>18</td>\n",
       "      <td>Engenheiro de dados</td>\n",
       "    </tr>\n",
       "  </tbody>\n",
       "</table>\n",
       "</div>"
      ],
      "text/plain": [
       "      Nome  Idade                Cargo\n",
       "0     Siri     28    Analista de dados\n",
       "1    Alexa     47   Cientista de dados\n",
       "2  Cortana     18  Engenheiro de dados"
      ]
     },
     "execution_count": 4,
     "metadata": {},
     "output_type": "execute_result"
    }
   ],
   "source": [
    "dados.head()"
   ]
  },
  {
   "cell_type": "code",
   "execution_count": 13,
   "id": "8ae0d2d5",
   "metadata": {},
   "outputs": [
    {
     "name": "stdout",
     "output_type": "stream",
     "text": [
      "C:\\Users\\Michael\\Desktop\\PROJETO PYTHON\\implementa‡Æo sql\\database\\projeto1.db\n"
     ]
    },
    {
     "name": "stderr",
     "output_type": "stream",
     "text": [
      "O arquivo j  est  sendo usado por outro processo.\n"
     ]
    }
   ],
   "source": [
    "#apagando banco de dados\n",
    "!del database\\projeto1.db"
   ]
  },
  {
   "cell_type": "code",
   "execution_count": 6,
   "id": "598cbac9",
   "metadata": {},
   "outputs": [],
   "source": [
    "# Criando conexão com o banco de dados SQLite\n",
    "cnn = sqlite3.connect('database/dbprojeto1.db')"
   ]
  },
  {
   "cell_type": "code",
   "execution_count": 7,
   "id": "fb4eef6f",
   "metadata": {},
   "outputs": [
    {
     "data": {
      "text/plain": [
       "3"
      ]
     },
     "execution_count": 7,
     "metadata": {},
     "output_type": "execute_result"
    }
   ],
   "source": [
    "# Copia o dataframe para dentro do banco de dados como uma tabela\n",
    "dados.to_sql('funcionarios',cnn)\n"
   ]
  },
  {
   "cell_type": "code",
   "execution_count": 8,
   "id": "b2a0f336",
   "metadata": {},
   "outputs": [],
   "source": [
    "#Carregando a extesão SQL\n",
    "%load_ext sql"
   ]
  },
  {
   "cell_type": "code",
   "execution_count": 11,
   "id": "50f69dc3",
   "metadata": {},
   "outputs": [],
   "source": [
    "#Definindo o banco de dados\n",
    "%sql sqlite:///database/dbprojeto1.db"
   ]
  },
  {
   "cell_type": "markdown",
   "id": "d9bafc9c",
   "metadata": {},
   "source": [
    "consultando SQL usando direfente Liguagem SQL dentro do Jupyter Notebook."
   ]
  },
  {
   "cell_type": "code",
   "execution_count": 26,
   "id": "1e987372",
   "metadata": {},
   "outputs": [
    {
     "name": "stdout",
     "output_type": "stream",
     "text": [
      " * sqlite:///database/dbprojeto1.db\n",
      "   sqlite:///database/projeto1.db\n",
      "Done.\n"
     ]
    },
    {
     "data": {
      "text/html": [
       "<table>\n",
       "    <thead>\n",
       "        <tr>\n",
       "            <th>index</th>\n",
       "            <th>Nome</th>\n",
       "            <th>Idade</th>\n",
       "            <th>Cargo</th>\n",
       "        </tr>\n",
       "    </thead>\n",
       "    <tbody>\n",
       "        <tr>\n",
       "            <td>0</td>\n",
       "            <td>Siri</td>\n",
       "            <td>28</td>\n",
       "            <td>Analista de dados</td>\n",
       "        </tr>\n",
       "        <tr>\n",
       "            <td>1</td>\n",
       "            <td>Alexa</td>\n",
       "            <td>47</td>\n",
       "            <td>Cientista de dados</td>\n",
       "        </tr>\n",
       "        <tr>\n",
       "            <td>2</td>\n",
       "            <td>Cortana</td>\n",
       "            <td>18</td>\n",
       "            <td>Engenheiro de dados</td>\n",
       "        </tr>\n",
       "    </tbody>\n",
       "</table>"
      ],
      "text/plain": [
       "[(0, 'Siri', 28, 'Analista de dados'),\n",
       " (1, 'Alexa', 47, 'Cientista de dados'),\n",
       " (2, 'Cortana', 18, 'Engenheiro de dados')]"
      ]
     },
     "execution_count": 26,
     "metadata": {},
     "output_type": "execute_result"
    }
   ],
   "source": [
    "%%sql\n",
    "SELECT * from funcionarios\n"
   ]
  },
  {
   "cell_type": "markdown",
   "id": "c8549198",
   "metadata": {},
   "source": [
    "consultando a tabela funcionarios"
   ]
  },
  {
   "cell_type": "markdown",
   "id": "001ff80a",
   "metadata": {},
   "source": [
    " "
   ]
  },
  {
   "cell_type": "code",
   "execution_count": 28,
   "id": "9fed480a",
   "metadata": {},
   "outputs": [
    {
     "name": "stdout",
     "output_type": "stream",
     "text": [
      " * sqlite:///database/dbprojeto1.db\n",
      "   sqlite:///database/projeto1.db\n",
      "Done.\n"
     ]
    },
    {
     "data": {
      "text/html": [
       "<table>\n",
       "    <thead>\n",
       "        <tr>\n",
       "            <th>count(*)</th>\n",
       "        </tr>\n",
       "    </thead>\n",
       "    <tbody>\n",
       "        <tr>\n",
       "            <td>3</td>\n",
       "        </tr>\n",
       "    </tbody>\n",
       "</table>"
      ],
      "text/plain": [
       "[(3,)]"
      ]
     },
     "execution_count": 28,
     "metadata": {},
     "output_type": "execute_result"
    }
   ],
   "source": [
    "%%sql \n",
    "SELECT count(*) FROM funcionarios"
   ]
  },
  {
   "cell_type": "markdown",
   "id": "47547a8b",
   "metadata": {},
   "source": [
    "consultando o número total de linhas na tabela funcionarios"
   ]
  },
  {
   "cell_type": "markdown",
   "id": "d2563f7b",
   "metadata": {},
   "source": [
    " "
   ]
  },
  {
   "cell_type": "code",
   "execution_count": 29,
   "id": "d16b4965",
   "metadata": {},
   "outputs": [
    {
     "name": "stdout",
     "output_type": "stream",
     "text": [
      " * sqlite:///database/dbprojeto1.db\n",
      "   sqlite:///database/projeto1.db\n",
      "Done.\n"
     ]
    },
    {
     "data": {
      "text/html": [
       "<table>\n",
       "    <thead>\n",
       "        <tr>\n",
       "            <th>idade_media</th>\n",
       "        </tr>\n",
       "    </thead>\n",
       "    <tbody>\n",
       "        <tr>\n",
       "            <td>31.0</td>\n",
       "        </tr>\n",
       "    </tbody>\n",
       "</table>"
      ],
      "text/plain": [
       "[(31.0,)]"
      ]
     },
     "execution_count": 29,
     "metadata": {},
     "output_type": "execute_result"
    }
   ],
   "source": [
    "%%sql\n",
    "SELECT avg(idade) as 'idade_media' FROM funcionarios"
   ]
  },
  {
   "cell_type": "markdown",
   "id": "a3f1c5f9",
   "metadata": {},
   "source": [
    "Fazendo uma operação de media com a tabela idade usando função 'avg'"
   ]
  },
  {
   "cell_type": "markdown",
   "id": "a7225ca4",
   "metadata": {},
   "source": [
    " "
   ]
  },
  {
   "cell_type": "code",
   "execution_count": null,
   "id": "ff98e2b5",
   "metadata": {},
   "outputs": [],
   "source": []
  }
 ],
 "metadata": {
  "kernelspec": {
   "display_name": "Python 3 (ipykernel)",
   "language": "python",
   "name": "python3"
  },
  "language_info": {
   "codemirror_mode": {
    "name": "ipython",
    "version": 3
   },
   "file_extension": ".py",
   "mimetype": "text/x-python",
   "name": "python",
   "nbconvert_exporter": "python",
   "pygments_lexer": "ipython3",
   "version": "3.9.13"
  }
 },
 "nbformat": 4,
 "nbformat_minor": 5
}
